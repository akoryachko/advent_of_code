{
 "cells": [
  {
   "cell_type": "code",
   "execution_count": 61,
   "metadata": {},
   "outputs": [],
   "source": [
    "import numpy as np"
   ]
  },
  {
   "cell_type": "code",
   "execution_count": 62,
   "metadata": {},
   "outputs": [],
   "source": [
    "def flist(nm):\n",
    "    with open(f'{nm}.txt') as f:\n",
    "        return [line.strip() for line in f.readlines()]"
   ]
  },
  {
   "cell_type": "code",
   "execution_count": 63,
   "metadata": {},
   "outputs": [],
   "source": [
    "e1 = flist('example1')"
   ]
  },
  {
   "cell_type": "code",
   "execution_count": 64,
   "metadata": {},
   "outputs": [
    {
     "data": {
      "text/plain": [
       "['seeds: 79 14 55 13',\n",
       " '',\n",
       " 'seed-to-soil map:',\n",
       " '50 98 2',\n",
       " '52 50 48',\n",
       " '',\n",
       " 'soil-to-fertilizer map:',\n",
       " '0 15 37',\n",
       " '37 52 2',\n",
       " '39 0 15',\n",
       " '',\n",
       " 'fertilizer-to-water map:',\n",
       " '49 53 8',\n",
       " '0 11 42',\n",
       " '42 0 7',\n",
       " '57 7 4',\n",
       " '',\n",
       " 'water-to-light map:',\n",
       " '88 18 7',\n",
       " '18 25 70',\n",
       " '',\n",
       " 'light-to-temperature map:',\n",
       " '45 77 23',\n",
       " '81 45 19',\n",
       " '68 64 13',\n",
       " '',\n",
       " 'temperature-to-humidity map:',\n",
       " '0 69 1',\n",
       " '1 0 69',\n",
       " '',\n",
       " 'humidity-to-location map:',\n",
       " '60 56 37',\n",
       " '56 93 4']"
      ]
     },
     "execution_count": 64,
     "metadata": {},
     "output_type": "execute_result"
    }
   ],
   "source": [
    "e1"
   ]
  },
  {
   "cell_type": "code",
   "execution_count": 65,
   "metadata": {},
   "outputs": [
    {
     "name": "stdout",
     "output_type": "stream",
     "text": [
      "[79, 14, 55, 13]\n",
      "[[52, 50, 48], [50, 98, 2]]\n",
      "[81, 14, 57, 13]\n",
      "[[39, 0, 15], [0, 15, 37], [37, 52, 2]]\n",
      "[81, 53, 57, 52]\n",
      "[[42, 0, 7], [57, 7, 4], [0, 11, 42], [49, 53, 8]]\n",
      "[81, 49, 53, 41]\n",
      "[[88, 18, 7], [18, 25, 70]]\n",
      "[74, 42, 46, 34]\n",
      "[[81, 45, 19], [68, 64, 13], [45, 77, 23]]\n",
      "[78, 42, 82, 34]\n",
      "[[1, 0, 69], [0, 69, 1]]\n",
      "[78, 43, 82, 35]\n",
      "[[60, 56, 37], [56, 93, 4]]\n",
      "[82, 43, 86, 35]\n"
     ]
    },
    {
     "data": {
      "text/plain": [
       "[82, 43, 86, 35]"
      ]
     },
     "execution_count": 65,
     "metadata": {},
     "output_type": "execute_result"
    }
   ],
   "source": [
    "fn = 'example1'\n",
    "e1 = flist(fn)\n",
    "e1.append('')\n",
    "seeds = [int(n) for n in e1[0].split(':')[1].strip().split()]# for s in flist(fn)]\n",
    "print(seeds)\n",
    "\n",
    "all_paths = []\n",
    "current_path = []\n",
    "for ln in e1[3:]:\n",
    "    if not bool(ln):\n",
    "        sorted_paths = sorted(current_path, key=lambda a:a[1])\n",
    "        for n, seed in enumerate(seeds):\n",
    "            if seed < sorted_paths[0][1]:\n",
    "                continue\n",
    "            for path in sorted_paths:\n",
    "                if seed < (path[1] + path[2]):\n",
    "                    seeds[n] = seeds[n] - path[1] + path[0]\n",
    "                    break\n",
    "        print(sorted_paths)\n",
    "        print(seeds)\n",
    "        all_paths.append(sorted_paths)\n",
    "        current_path = []\n",
    "        continue\n",
    "    if ln[0].isnumeric():\n",
    "        current_path.append([int(n) for n in ln.split()])\n",
    "\n",
    "seeds"
   ]
  },
  {
   "cell_type": "code",
   "execution_count": 66,
   "metadata": {},
   "outputs": [],
   "source": [
    "def part1(fn):\n",
    "    e1 = flist(fn)\n",
    "    e1.append('')\n",
    "    seeds = [int(n) for n in e1[0].split(':')[1].strip().split()]# for s in flist(fn)]\n",
    "\n",
    "    all_paths = []\n",
    "    current_path = []\n",
    "    for ln in e1[3:]:\n",
    "        if not bool(ln):\n",
    "            sorted_paths = sorted(current_path, key=lambda a:a[1])\n",
    "            for n, seed in enumerate(seeds):\n",
    "                if seed < sorted_paths[0][1]:\n",
    "                    continue\n",
    "                for path in sorted_paths:\n",
    "                    if seed < (path[1] + path[2]):\n",
    "                        seeds[n] = seeds[n] - path[1] + path[0]\n",
    "                        break\n",
    "            all_paths.append(sorted_paths)\n",
    "            current_path = []\n",
    "            continue\n",
    "        if ln[0].isnumeric():\n",
    "            current_path.append([int(n) for n in ln.split()])\n",
    "\n",
    "    return seeds\n",
    "\n",
    "assert part1('example1') == [82, 43, 86, 35]\n",
    "assert min(part1('example1')) == 35"
   ]
  },
  {
   "cell_type": "code",
   "execution_count": 67,
   "metadata": {},
   "outputs": [
    {
     "data": {
      "text/plain": [
       "836040384"
      ]
     },
     "execution_count": 67,
     "metadata": {},
     "output_type": "execute_result"
    }
   ],
   "source": [
    "min(part1('input'))"
   ]
  },
  {
   "cell_type": "code",
   "execution_count": 84,
   "metadata": {},
   "outputs": [
    {
     "name": "stdout",
     "output_type": "stream",
     "text": [
      "[[79, 14], [55, 13]]\n",
      "sorted_paths=[[0, 0, 49], [52, 50, 48], [50, 98, 2], [100, 100, inf]]\n",
      "seeds=[[79, 14], [55, 13]]\n",
      "n=1\n",
      "new_seeds=[[81, 14]]\n",
      "seeds=[[55, 13]]\n",
      "n=2\n",
      "new_seeds=[[81, 14], [57, 13]]\n",
      "seeds=[]\n",
      "\n",
      " soil-to-fertilizer map: \n",
      "\n",
      "sorted_paths=[[39, 0, 15], [0, 15, 37], [37, 52, 2], [54, 54, inf]]\n",
      "seeds=[[81, 14], [57, 13]]\n",
      "n=1\n",
      "new_seeds=[[81, 14]]\n",
      "seeds=[[57, 13]]\n",
      "n=2\n",
      "new_seeds=[[81, 14], [57, 13]]\n",
      "seeds=[]\n",
      "\n",
      " fertilizer-to-water map: \n",
      "\n",
      "sorted_paths=[[42, 0, 7], [57, 7, 4], [0, 11, 42], [49, 53, 8], [61, 61, inf]]\n",
      "seeds=[[81, 14], [57, 13]]\n",
      "n=1\n",
      "new_seeds=[[81, 14]]\n",
      "seeds=[[57, 13]]\n",
      "n=2\n",
      "new_seeds=[[81, 14], [53, 4]]\n",
      "seeds=[[61, 9]]\n",
      "n=3\n",
      "new_seeds=[[81, 14], [53, 4], [61, 9]]\n",
      "seeds=[]\n",
      "\n",
      " water-to-light map: \n",
      "\n",
      "sorted_paths=[[0, 0, 17], [88, 18, 7], [18, 25, 70], [95, 95, inf]]\n",
      "seeds=[[81, 14], [53, 4], [61, 9]]\n",
      "n=1\n",
      "new_seeds=[[74, 14]]\n",
      "seeds=[[53, 4], [61, 9], [95, 0]]\n",
      "n=2\n",
      "new_seeds=[[74, 14], [46, 4]]\n",
      "seeds=[[61, 9], [95, 0]]\n",
      "n=3\n",
      "new_seeds=[[74, 14], [46, 4], [54, 9]]\n",
      "seeds=[[95, 0]]\n",
      "n=4\n",
      "new_seeds=[[74, 14], [46, 4], [54, 9], [95, 0]]\n",
      "seeds=[]\n",
      "\n",
      " light-to-temperature map: \n",
      "\n",
      "sorted_paths=[[0, 0, 44], [81, 45, 19], [68, 64, 13], [45, 77, 23], [100, 100, inf]]\n",
      "seeds=[[74, 14], [46, 4], [54, 9], [95, 0]]\n",
      "n=1\n",
      "new_seeds=[[78, 3]]\n",
      "seeds=[[46, 4], [54, 9], [95, 0], [77, 11]]\n",
      "n=2\n",
      "new_seeds=[[78, 3], [82, 4]]\n",
      "seeds=[[54, 9], [95, 0], [77, 11]]\n",
      "n=3\n",
      "new_seeds=[[78, 3], [82, 4], [90, 9]]\n",
      "seeds=[[95, 0], [77, 11]]\n",
      "n=4\n",
      "new_seeds=[[78, 3], [82, 4], [90, 9], [63, 0]]\n",
      "seeds=[[77, 11]]\n",
      "n=5\n",
      "new_seeds=[[78, 3], [82, 4], [90, 9], [63, 0], [45, 11]]\n",
      "seeds=[]\n",
      "\n",
      " temperature-to-humidity map: \n",
      "\n",
      "sorted_paths=[[1, 0, 69], [0, 69, 1], [70, 70, inf]]\n",
      "seeds=[[78, 3], [82, 4], [90, 9], [63, 0], [45, 11]]\n",
      "n=1\n",
      "new_seeds=[[78, 3]]\n",
      "seeds=[[82, 4], [90, 9], [63, 0], [45, 11]]\n",
      "n=2\n",
      "new_seeds=[[78, 3], [82, 4]]\n",
      "seeds=[[90, 9], [63, 0], [45, 11]]\n",
      "n=3\n",
      "new_seeds=[[78, 3], [82, 4], [90, 9]]\n",
      "seeds=[[63, 0], [45, 11]]\n",
      "n=4\n",
      "new_seeds=[[78, 3], [82, 4], [90, 9], [64, 0]]\n",
      "seeds=[[45, 11]]\n",
      "n=5\n",
      "new_seeds=[[78, 3], [82, 4], [90, 9], [64, 0], [46, 11]]\n",
      "seeds=[]\n",
      "\n",
      " humidity-to-location map: \n",
      "\n",
      "sorted_paths=[[0, 0, 55], [60, 56, 37], [56, 93, 4], [97, 97, inf]]\n",
      "seeds=[[78, 3], [82, 4], [90, 9], [64, 0], [46, 11]]\n",
      "n=1\n",
      "new_seeds=[[82, 3]]\n",
      "seeds=[[82, 4], [90, 9], [64, 0], [46, 11]]\n",
      "n=2\n",
      "new_seeds=[[82, 3], [86, 4]]\n",
      "seeds=[[90, 9], [64, 0], [46, 11]]\n",
      "n=3\n",
      "new_seeds=[[82, 3], [86, 4], [94, 3]]\n",
      "seeds=[[64, 0], [46, 11], [93, 6]]\n",
      "n=4\n",
      "new_seeds=[[82, 3], [86, 4], [94, 3], [68, 0]]\n",
      "seeds=[[46, 11], [93, 6]]\n",
      "n=5\n",
      "new_seeds=[[82, 3], [86, 4], [94, 3], [68, 0], [46, 9]]\n",
      "seeds=[[93, 6], [55, 2]]\n",
      "n=6\n",
      "new_seeds=[[82, 3], [86, 4], [94, 3], [68, 0], [46, 9], [56, 4]]\n",
      "seeds=[[55, 2], [97, 2]]\n",
      "n=7\n",
      "new_seeds=[[82, 3], [86, 4], [94, 3], [68, 0], [46, 9], [56, 4], [59, 2]]\n",
      "seeds=[[97, 2]]\n",
      "n=8\n",
      "new_seeds=[[82, 3], [86, 4], [94, 3], [68, 0], [46, 9], [56, 4], [59, 2], [97, 2]]\n",
      "seeds=[]\n"
     ]
    }
   ],
   "source": [
    "fn = 'example1'\n",
    "e1 = flist(fn)\n",
    "e1.append('')\n",
    "seeds = [int(n) for n in e1[0].split(':')[1].strip().split()]\n",
    "seeds = [[s,r] for s,r in zip(seeds[0::2], seeds[1::2])]\n",
    "print(seeds)\n",
    "\n",
    "all_paths = []\n",
    "current_path = []\n",
    "for ln in e1[3:]:\n",
    "    if not bool(ln):\n",
    "        sorted_paths = sorted(current_path, key=lambda a:a[1])\n",
    "        if sorted_paths[0][1] > 0:\n",
    "            sorted_paths = [[0, 0, sorted_paths[0][1] - 1]] + sorted_paths\n",
    "        sorted_paths = sorted_paths + [[sorted_paths[-1][1] + sorted_paths[-1][2], sorted_paths[-1][1] + sorted_paths[-1][2], np.inf]]\n",
    "        new_seeds = []\n",
    "        print(f'{sorted_paths=}')\n",
    "        print(f'{seeds=}')\n",
    "        while bool(seeds):\n",
    "            seed = seeds[0]\n",
    "            for path in sorted_paths:\n",
    "                if seed[0] < (path[1] + path[2]):\n",
    "                    if (seed[0] + seed[1]) >= (path[1] + path[2]):\n",
    "                        covered = (path[1] + path[2]) - seed[0]\n",
    "                        new_seeds.append([seed[0] - path[1] + path[0], covered])\n",
    "                        seeds.append([path[1] + path[2], seed[1] - covered])\n",
    "                    else:\n",
    "                        new_seeds.append([seed[0] - path[1] + path[0], seed[1]])\n",
    "                    seeds = seeds[1:]\n",
    "                    break\n",
    "            print(f'{n=}')\n",
    "            print(f'{new_seeds=}')\n",
    "            print(f'{seeds=}')\n",
    "        all_paths.append(sorted_paths)\n",
    "        current_path = []\n",
    "        seeds = new_seeds.copy()\n",
    "        continue\n",
    "    if ln[0].isnumeric():\n",
    "        current_path.append([int(n) for n in ln.split()])\n",
    "    else:\n",
    "        print('\\n', ln, '\\n')\n",
    "\n",
    "# min(seeds)"
   ]
  },
  {
   "cell_type": "code",
   "execution_count": 90,
   "metadata": {},
   "outputs": [],
   "source": [
    "def part2(fn):\n",
    "    e1 = flist(fn)\n",
    "    e1.append('')\n",
    "    seeds = [int(n) for n in e1[0].split(':')[1].strip().split()]\n",
    "    seeds = [[s,r] for s,r in zip(seeds[0::2], seeds[1::2])]\n",
    "\n",
    "    all_paths = []\n",
    "    current_path = []\n",
    "    for ln in e1[3:]:\n",
    "        if not bool(ln):\n",
    "            sorted_paths = sorted(current_path, key=lambda a:a[1])\n",
    "            if sorted_paths[0][1] > 0:\n",
    "                sorted_paths = [[0, 0, sorted_paths[0][1] - 1]] + sorted_paths\n",
    "            sorted_paths = sorted_paths + [[sorted_paths[-1][1] + sorted_paths[-1][2], sorted_paths[-1][1] + sorted_paths[-1][2], np.inf]]\n",
    "            new_seeds = []\n",
    "            while bool(seeds):\n",
    "                seed = seeds[0]\n",
    "                for path in sorted_paths:\n",
    "                    if seed[0] < (path[1] + path[2]):\n",
    "                        if (seed[0] + seed[1]) >= (path[1] + path[2]):\n",
    "                            covered = (path[1] + path[2]) - seed[0]\n",
    "                            new_seeds.append([seed[0] - path[1] + path[0], covered])\n",
    "                            seeds.append([path[1] + path[2], seed[1] - covered])\n",
    "                        else:\n",
    "                            new_seeds.append([seed[0] - path[1] + path[0], seed[1]])\n",
    "                        seeds = seeds[1:]\n",
    "                        break\n",
    "            all_paths.append(sorted_paths)\n",
    "            current_path = []\n",
    "            seeds = new_seeds.copy()\n",
    "            continue\n",
    "        if ln[0].isnumeric():\n",
    "            current_path.append([int(n) for n in ln.split()])\n",
    "    return [k[0] for k in new_seeds]\n",
    "\n",
    "assert part2('example1') == [82, 86, 94, 68, 46, 56, 59, 97]\n",
    "assert min(part2('example1')) == 46"
   ]
  },
  {
   "cell_type": "code",
   "execution_count": 91,
   "metadata": {},
   "outputs": [
    {
     "data": {
      "text/plain": [
       "10834440"
      ]
     },
     "execution_count": 91,
     "metadata": {},
     "output_type": "execute_result"
    }
   ],
   "source": [
    "min(part2('input'))"
   ]
  },
  {
   "cell_type": "code",
   "execution_count": null,
   "metadata": {},
   "outputs": [],
   "source": []
  }
 ],
 "metadata": {
  "kernelspec": {
   "display_name": "base",
   "language": "python",
   "name": "python3"
  },
  "language_info": {
   "codemirror_mode": {
    "name": "ipython",
    "version": 3
   },
   "file_extension": ".py",
   "mimetype": "text/x-python",
   "name": "python",
   "nbconvert_exporter": "python",
   "pygments_lexer": "ipython3",
   "version": "3.9.16"
  }
 },
 "nbformat": 4,
 "nbformat_minor": 2
}

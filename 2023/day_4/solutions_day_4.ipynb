{
 "cells": [
  {
   "cell_type": "code",
   "execution_count": 1,
   "metadata": {},
   "outputs": [],
   "source": [
    "import numpy as np"
   ]
  },
  {
   "cell_type": "code",
   "execution_count": 2,
   "metadata": {},
   "outputs": [],
   "source": [
    "def flist(nm):\n",
    "    with open(f'{nm}.txt') as f:\n",
    "        return [line.strip() for line in f.readlines()]"
   ]
  },
  {
   "cell_type": "code",
   "execution_count": 3,
   "metadata": {},
   "outputs": [],
   "source": [
    "e1 = flist('example1')"
   ]
  },
  {
   "cell_type": "code",
   "execution_count": 4,
   "metadata": {},
   "outputs": [
    {
     "data": {
      "text/plain": [
       "['Card 1: 41 48 83 86 17 | 83 86  6 31 17  9 48 53',\n",
       " 'Card 2: 13 32 20 16 61 | 61 30 68 82 17 32 24 19',\n",
       " 'Card 3:  1 21 53 59 44 | 69 82 63 72 16 21 14  1',\n",
       " 'Card 4: 41 92 73 84 69 | 59 84 76 51 58  5 54 83',\n",
       " 'Card 5: 87 83 26 28 32 | 88 30 70 12 93 22 82 36',\n",
       " 'Card 6: 31 18 13 56 72 | 74 77 10 23 35 67 36 11']"
      ]
     },
     "execution_count": 4,
     "metadata": {},
     "output_type": "execute_result"
    }
   ],
   "source": [
    "e1"
   ]
  },
  {
   "cell_type": "code",
   "execution_count": 22,
   "metadata": {},
   "outputs": [
    {
     "data": {
      "text/plain": [
       "[8, 2, 2, 1, 0, 0]"
      ]
     },
     "execution_count": 22,
     "metadata": {},
     "output_type": "execute_result"
    }
   ],
   "source": [
    "fn = 'example1'\n",
    "cases = [s.split(':')[1].strip() for s in flist(fn)]\n",
    "results = []\n",
    "for cs in cases:\n",
    "    parts = cs.split('|')\n",
    "    winning_numbers = {int(n) for n in parts[0].strip().split()}\n",
    "    test_numbers = {int(n) for n in parts[1].strip().split()}\n",
    "    points = 0\n",
    "    for num in winning_numbers.intersection(test_numbers):\n",
    "        if points == 0:\n",
    "            points = 1\n",
    "            continue\n",
    "        points *= 2\n",
    "    results.append(points)\n",
    "\n",
    "results"
   ]
  },
  {
   "cell_type": "code",
   "execution_count": 25,
   "metadata": {},
   "outputs": [],
   "source": [
    "def part1(fn):\n",
    "    cases = [s.split(':')[1].strip() for s in flist(fn)]\n",
    "    results = []\n",
    "    for cs in cases:\n",
    "        parts = cs.split('|')\n",
    "        winning_numbers = {int(n) for n in parts[0].strip().split()}\n",
    "        test_numbers = {int(n) for n in parts[1].strip().split()}\n",
    "        points = 0\n",
    "        for num in winning_numbers.intersection(test_numbers):\n",
    "            if points == 0:\n",
    "                points = 1\n",
    "                continue\n",
    "            points *= 2\n",
    "        results.append(points)\n",
    "\n",
    "    return results\n",
    "\n",
    "assert part1('example1') == [8, 2, 2, 1, 0, 0]\n",
    "assert sum(part1('example1')) == 13"
   ]
  },
  {
   "cell_type": "code",
   "execution_count": 26,
   "metadata": {},
   "outputs": [
    {
     "data": {
      "text/plain": [
       "26346"
      ]
     },
     "execution_count": 26,
     "metadata": {},
     "output_type": "execute_result"
    }
   ],
   "source": [
    "sum(part1('input'))"
   ]
  },
  {
   "cell_type": "code",
   "execution_count": 43,
   "metadata": {},
   "outputs": [],
   "source": [
    "fn = 'example1'\n",
    "def part2(fn):\n",
    "    cases = [s.split(':')[1].strip() for s in flist(fn)]\n",
    "    results = {}\n",
    "    for cn, cs in [(s.split(':')[0].strip(), s.split(':')[1].strip()) for s in flist(fn)]:\n",
    "        current_number = int(cn.split()[1])\n",
    "        results[current_number] = results.get(current_number, 0)\n",
    "        results[current_number] += 1\n",
    "        parts = cs.split('|')\n",
    "        winning_numbers = {int(n) for n in parts[0].strip().split()}\n",
    "        test_numbers = {int(n) for n in parts[1].strip().split()}\n",
    "    #     points = 0\n",
    "        for k in range(results[current_number]):\n",
    "            for num in range(current_number+1, current_number+1+len(winning_numbers.intersection(test_numbers))):\n",
    "                results[num] = results.get(num, 0)\n",
    "                results[num] += 1\n",
    "    return list(results.values())\n",
    "\n",
    "assert part2('example1') == [1, 2, 4, 8, 14, 1]\n",
    "assert sum(part2('example1')) == 30"
   ]
  },
  {
   "cell_type": "code",
   "execution_count": 44,
   "metadata": {},
   "outputs": [
    {
     "data": {
      "text/plain": [
       "8467762"
      ]
     },
     "execution_count": 44,
     "metadata": {},
     "output_type": "execute_result"
    }
   ],
   "source": [
    "sum(part2('input'))"
   ]
  },
  {
   "cell_type": "code",
   "execution_count": null,
   "metadata": {},
   "outputs": [],
   "source": []
  }
 ],
 "metadata": {
  "kernelspec": {
   "display_name": "base",
   "language": "python",
   "name": "python3"
  },
  "language_info": {
   "codemirror_mode": {
    "name": "ipython",
    "version": 3
   },
   "file_extension": ".py",
   "mimetype": "text/x-python",
   "name": "python",
   "nbconvert_exporter": "python",
   "pygments_lexer": "ipython3",
   "version": "3.9.13"
  }
 },
 "nbformat": 4,
 "nbformat_minor": 2
}

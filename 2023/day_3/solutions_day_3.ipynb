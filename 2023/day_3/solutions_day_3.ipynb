{
 "cells": [
  {
   "cell_type": "code",
   "execution_count": 4,
   "metadata": {},
   "outputs": [],
   "source": [
    "import numpy as np"
   ]
  },
  {
   "cell_type": "code",
   "execution_count": 1,
   "metadata": {},
   "outputs": [],
   "source": [
    "def flist(nm):\n",
    "    with open(f'{nm}.txt') as f:\n",
    "        return [line.strip() for line in f.readlines()]"
   ]
  },
  {
   "cell_type": "code",
   "execution_count": 2,
   "metadata": {},
   "outputs": [],
   "source": [
    "e1 = flist('example1')"
   ]
  },
  {
   "cell_type": "code",
   "execution_count": 3,
   "metadata": {},
   "outputs": [
    {
     "data": {
      "text/plain": [
       "['467..114..',\n",
       " '...*......',\n",
       " '..35..633.',\n",
       " '......#...',\n",
       " '617*......',\n",
       " '.....+.58.',\n",
       " '..592.....',\n",
       " '......755.',\n",
       " '...$.*....',\n",
       " '.664.598..']"
      ]
     },
     "execution_count": 3,
     "metadata": {},
     "output_type": "execute_result"
    }
   ],
   "source": [
    "e1"
   ]
  },
  {
   "cell_type": "code",
   "execution_count": 34,
   "metadata": {},
   "outputs": [
    {
     "data": {
      "text/plain": [
       "[[0, 8], [0, 9], [1, 8], [1, 9]]"
      ]
     },
     "execution_count": 34,
     "metadata": {},
     "output_type": "execute_result"
    }
   ],
   "source": [
    "i = 0\n",
    "j = 9\n",
    "max_i, max_j = x.shape\n",
    "\n",
    "def shifts(x, m):\n",
    "    s = [x - 1, x, x + 1]\n",
    "    s = [x for x in s if 0 <= x < m]\n",
    "    return s\n",
    "\n",
    "i_shifts = shifts(i, max_i)\n",
    "j_shifts = shifts(j, max_j)\n",
    "\n",
    "all_shifts = []\n",
    "for i_shift in i_shifts:\n",
    "    for j_shift in j_shifts:\n",
    "        all_shifts.append([i_shift, j_shift])\n",
    "\n",
    "all_shifts\n",
    "\n",
    "# shifts = lambda x: [x - 1, x, x + 1]\n",
    "# i_shifts = [i in shifts(i)]"
   ]
  },
  {
   "cell_type": "code",
   "execution_count": 41,
   "metadata": {},
   "outputs": [
    {
     "data": {
      "text/plain": [
       "1"
      ]
     },
     "execution_count": 41,
     "metadata": {},
     "output_type": "execute_result"
    }
   ],
   "source": [
    "def check_surroundings(x, i, j):\n",
    "\n",
    "    max_i, max_j = x.shape\n",
    "\n",
    "    def shifts(x, m):\n",
    "        s = [x - 1, x, x + 1]\n",
    "        s = [x for x in s if 0 <= x < m]\n",
    "        return s\n",
    "\n",
    "    i_shifts = shifts(i, max_i)\n",
    "    j_shifts = shifts(j, max_j)\n",
    "\n",
    "    sur = 0\n",
    "    for i_shift in i_shifts:\n",
    "        for j_shift in j_shifts:\n",
    "            v = x[i_shift, j_shift]\n",
    "            # print(i_shift, j_shift, v.isnumeric(), v != '.')\n",
    "            if (not v.isnumeric()) & (v != '.'):\n",
    "                sur += 1\n",
    "\n",
    "    return sur\n",
    "\n",
    "check_surroundings(x, 0, 2)"
   ]
  },
  {
   "cell_type": "code",
   "execution_count": 43,
   "metadata": {},
   "outputs": [],
   "source": [
    "x = np.array([[c for c in line] for line in e1], dtype=str)\n",
    "is_number = np.ones(x.shape)\n",
    "valid_numbers = []\n",
    "nmbr = ''\n",
    "n_non_dots = 0\n",
    "for i in range(x.shape[0]):\n",
    "    for j in range(x.shape[1]):\n",
    "        if x[i,j].isnumeric():\n",
    "            nmbr += x[i,j]\n",
    "            n_non_dots += check_surroundings(x, i, j)\n",
    "        else:\n",
    "            if (len(nmbr) > 0) & (n_non_dots > 0):\n",
    "                valid_numbers.append(int(nmbr))\n",
    "            nmbr = ''\n",
    "            n_non_dots = 0\n",
    "\n",
    "assert(sum(valid_numbers)) == 4361"
   ]
  },
  {
   "cell_type": "code",
   "execution_count": 60,
   "metadata": {},
   "outputs": [],
   "source": [
    "def part1(fn):\n",
    "    x = np.array([[c for c in line] for line in flist(fn)], dtype=str)\n",
    "    # print(x.shape)\n",
    "    valid_numbers = []\n",
    "    nmbr = ''\n",
    "    n_non_dots = 0\n",
    "    for i in range(x.shape[0]):\n",
    "        for j in range(x.shape[1]):\n",
    "            # if x[i,j].isnumeric():\n",
    "            if x[i,j].isnumeric():\n",
    "                nmbr += x[i,j]\n",
    "                n_non_dots += check_surroundings(x, i, j)\n",
    "            else:\n",
    "                if (len(nmbr) > 0) & (n_non_dots > 0):\n",
    "                    valid_numbers.append(int(nmbr))\n",
    "                nmbr = ''\n",
    "                n_non_dots = 0\n",
    "        \n",
    "        if (len(nmbr) > 0) & (n_non_dots > 0):\n",
    "            valid_numbers.append(int(nmbr))\n",
    "        nmbr = ''\n",
    "        n_non_dots = 0\n",
    "    \n",
    "    return valid_numbers\n",
    "\n",
    "assert sum(part1('example1')) == 4361"
   ]
  },
  {
   "cell_type": "code",
   "execution_count": 50,
   "metadata": {},
   "outputs": [
    {
     "name": "stdout",
     "output_type": "stream",
     "text": [
      "(140, 140)\n"
     ]
    },
    {
     "data": {
      "text/plain": [
       "[102, 760, 817, 719, 620, 806, 866, 440, 310, 590]"
      ]
     },
     "execution_count": 50,
     "metadata": {},
     "output_type": "execute_result"
    }
   ],
   "source": [
    "s = part1('input')\n",
    "s[-10:]"
   ]
  },
  {
   "cell_type": "code",
   "execution_count": 52,
   "metadata": {},
   "outputs": [
    {
     "data": {
      "text/plain": [
       "1074"
      ]
     },
     "execution_count": 52,
     "metadata": {},
     "output_type": "execute_result"
    }
   ],
   "source": [
    "len(s)"
   ]
  },
  {
   "cell_type": "code",
   "execution_count": 61,
   "metadata": {},
   "outputs": [
    {
     "data": {
      "text/plain": [
       "540131"
      ]
     },
     "execution_count": 61,
     "metadata": {},
     "output_type": "execute_result"
    }
   ],
   "source": [
    "sum(part1('input'))"
   ]
  },
  {
   "cell_type": "code",
   "execution_count": 95,
   "metadata": {},
   "outputs": [
    {
     "name": "stdout",
     "output_type": "stream",
     "text": [
      "{(3, 2), (1, 3)}\n"
     ]
    },
    {
     "data": {
      "text/plain": [
       "{(1, 3), (3, 2)}"
      ]
     },
     "execution_count": 95,
     "metadata": {},
     "output_type": "execute_result"
    }
   ],
   "source": [
    "fn = 'example1'\n",
    "x = np.array([[c for c in line] for line in flist(fn)], dtype=str)\n",
    "def check_surroundings_gear(x, i, j):\n",
    "\n",
    "    max_i, max_j = x.shape\n",
    "\n",
    "    def shifts(x, m):\n",
    "        s = [x - 1, x, x + 1]\n",
    "        s = [x for x in s if 0 <= x < m]\n",
    "        return s\n",
    "\n",
    "    i_shifts = shifts(i, max_i)\n",
    "    j_shifts = shifts(j, max_j)\n",
    "\n",
    "    sur = set()\n",
    "    for i_shift in i_shifts:\n",
    "        for j_shift in j_shifts:\n",
    "            v = x[i_shift, j_shift]\n",
    "            # print(i_shift, j_shift, v.isnumeric(), v != '.')\n",
    "            if v == '*':\n",
    "                sur.add((i_shift, j_shift))\n",
    "\n",
    "    if len(sur) > 1:\n",
    "        print(sur)\n",
    "    return sur\n",
    "\n",
    "check_surroundings_gear(x, 2, 2)"
   ]
  },
  {
   "cell_type": "code",
   "execution_count": 103,
   "metadata": {},
   "outputs": [],
   "source": [
    "fn = 'example1'\n",
    "def part2(fn):\n",
    "    x = np.array([[c for c in line] for line in flist(fn)], dtype=str)\n",
    "    # print(x.shape)\n",
    "    valid_numbers = {}\n",
    "    nmbr = ''\n",
    "    n_non_dots = set()\n",
    "    for i in range(x.shape[0]):\n",
    "        for j in range(x.shape[1]):\n",
    "            if x[i,j].isnumeric():\n",
    "                nmbr += x[i,j]\n",
    "                n_non_dots = n_non_dots.union(check_surroundings_gear(x, i, j))\n",
    "                # print(n_non_dots)\n",
    "            else:\n",
    "                if (len(nmbr) > 0) & bool(n_non_dots):\n",
    "                    for nnd in n_non_dots:\n",
    "                        valid_numbers[nnd] = valid_numbers.get(nnd, []) + [int(nmbr)]\n",
    "                nmbr = ''\n",
    "                n_non_dots = set()\n",
    "        \n",
    "        if (len(nmbr) > 0) & bool(n_non_dots):\n",
    "            for nnd in n_non_dots:\n",
    "                valid_numbers[nnd] = valid_numbers.get(nnd, []) + [int(nmbr)]\n",
    "        nmbr = ''\n",
    "        n_non_dots = set()\n",
    "    \n",
    "    # print(valid_numbers)\n",
    "\n",
    "    return [v[0]*v[1] for k,v in valid_numbers.items() if len(v) == 2]"
   ]
  },
  {
   "cell_type": "code",
   "execution_count": 104,
   "metadata": {},
   "outputs": [],
   "source": [
    "assert part2('example1') == [16345, 451490]\n",
    "assert sum(part2('example1')) == 467835"
   ]
  },
  {
   "cell_type": "code",
   "execution_count": 105,
   "metadata": {},
   "outputs": [
    {
     "data": {
      "text/plain": [
       "86879020"
      ]
     },
     "execution_count": 105,
     "metadata": {},
     "output_type": "execute_result"
    }
   ],
   "source": [
    "sum(part2('input'))"
   ]
  }
 ],
 "metadata": {
  "kernelspec": {
   "display_name": "base",
   "language": "python",
   "name": "python3"
  },
  "language_info": {
   "codemirror_mode": {
    "name": "ipython",
    "version": 3
   },
   "file_extension": ".py",
   "mimetype": "text/x-python",
   "name": "python",
   "nbconvert_exporter": "python",
   "pygments_lexer": "ipython3",
   "version": "3.9.13"
  }
 },
 "nbformat": 4,
 "nbformat_minor": 2
}

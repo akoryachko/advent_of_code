{
 "cells": [
  {
   "cell_type": "code",
   "execution_count": 1,
   "metadata": {},
   "outputs": [],
   "source": [
    "def flist(nm):\n",
    "    with open(f'{nm}.txt') as f:\n",
    "        return [line.strip() for line in f.readlines()]"
   ]
  },
  {
   "cell_type": "code",
   "execution_count": 2,
   "metadata": {},
   "outputs": [],
   "source": [
    "e1 = flist('example1')"
   ]
  },
  {
   "cell_type": "code",
   "execution_count": 3,
   "metadata": {},
   "outputs": [
    {
     "data": {
      "text/plain": [
       "12"
      ]
     },
     "execution_count": 3,
     "metadata": {},
     "output_type": "execute_result"
    }
   ],
   "source": [
    "def get_first_and_last(s):\n",
    "    all_digits = [int(c) for c in s if c.isdigit()]\n",
    "    return 10*all_digits[0] + all_digits[-1]\n",
    "\n",
    "get_first_and_last(e1[0])\n"
   ]
  },
  {
   "cell_type": "code",
   "execution_count": 4,
   "metadata": {},
   "outputs": [],
   "source": [
    "part1 = lambda fn: [get_first_and_last(line) for line in flist(fn)]\n",
    "\n",
    "assert part1('example1') == [12, 38, 15, 77]\n",
    "assert sum(part1('example1')) == 142"
   ]
  },
  {
   "cell_type": "code",
   "execution_count": 5,
   "metadata": {},
   "outputs": [
    {
     "data": {
      "text/plain": [
       "53080"
      ]
     },
     "execution_count": 5,
     "metadata": {},
     "output_type": "execute_result"
    }
   ],
   "source": [
    "sum(part1('input'))"
   ]
  },
  {
   "cell_type": "code",
   "execution_count": 6,
   "metadata": {},
   "outputs": [
    {
     "data": {
      "text/plain": [
       "['two1nine',\n",
       " 'eightwothree',\n",
       " 'abcone2threexyz',\n",
       " 'xtwone3four',\n",
       " '4nineeightseven2',\n",
       " 'zoneight234',\n",
       " '7pqrstsixteen']"
      ]
     },
     "execution_count": 6,
     "metadata": {},
     "output_type": "execute_result"
    }
   ],
   "source": [
    "e2 = flist('example2')\n",
    "e2"
   ]
  },
  {
   "cell_type": "code",
   "execution_count": 13,
   "metadata": {},
   "outputs": [],
   "source": [
    "s2n = {\n",
    "    'zero': 0,\n",
    "    'one': 1,\n",
    "    'two': 2,\n",
    "    'three': 3,\n",
    "    'four': 4,\n",
    "    'five': 5,\n",
    "    'six': 6,\n",
    "    'seven': 7,\n",
    "    'eight': 8,\n",
    "    'nine': 9,\n",
    "}"
   ]
  },
  {
   "cell_type": "code",
   "execution_count": 35,
   "metadata": {},
   "outputs": [
    {
     "data": {
      "text/plain": [
       "9"
      ]
     },
     "execution_count": 35,
     "metadata": {},
     "output_type": "execute_result"
    }
   ],
   "source": [
    "def find2(s1, s2):\n",
    "    res = s1.find(s2)\n",
    "    return res if res >= 0 else 1e10\n",
    "\n",
    "w = 'two1nine2nine'\n",
    "k = 'nine'\n",
    "ix = [min(find2(w, k), find2(w, str(v))) for k, v in s2n.items()]\n",
    "n1 = ix.index(min(ix))\n",
    "ix = [min(find2(w[::-1], k[::-1]), find2(w[::-1], str(v))) for k, v in s2n.items()]\n",
    "n2 = ix.index(min(ix))"
   ]
  },
  {
   "cell_type": "code",
   "execution_count": 21,
   "metadata": {},
   "outputs": [
    {
     "data": {
      "text/plain": [
       "'two1nine'"
      ]
     },
     "execution_count": 21,
     "metadata": {},
     "output_type": "execute_result"
    }
   ],
   "source": [
    "e2[0]"
   ]
  },
  {
   "cell_type": "code",
   "execution_count": 36,
   "metadata": {},
   "outputs": [
    {
     "data": {
      "text/plain": [
       "29"
      ]
     },
     "execution_count": 36,
     "metadata": {},
     "output_type": "execute_result"
    }
   ],
   "source": [
    "def get_first_and_last2(w):\n",
    "    def find2(s1, s2):\n",
    "        res = s1.find(s2)\n",
    "        return res if res >= 0 else 1e10\n",
    "    \n",
    "    ix = [min(find2(w, k), find2(w, str(v))) for k, v in s2n.items()]\n",
    "    n1 = ix.index(min(ix))\n",
    "    ix = [min(find2(w[::-1], k[::-1]), find2(w[::-1], str(v))) for k, v in s2n.items()]\n",
    "    n2 = ix.index(min(ix))\n",
    "    return 10*n1 + n2\n",
    "\n",
    "get_first_and_last2(e2[0])"
   ]
  },
  {
   "cell_type": "code",
   "execution_count": 37,
   "metadata": {},
   "outputs": [],
   "source": [
    "part2 = lambda fn: [get_first_and_last2(line) for line in flist(fn)]\n",
    "\n",
    "assert part2('example2') == [29, 83, 13, 24, 42, 14, 76]\n",
    "assert sum(part2('example2')) == 281"
   ]
  },
  {
   "cell_type": "code",
   "execution_count": 38,
   "metadata": {},
   "outputs": [
    {
     "data": {
      "text/plain": [
       "53268"
      ]
     },
     "execution_count": 38,
     "metadata": {},
     "output_type": "execute_result"
    }
   ],
   "source": [
    "sum(part2('input'))"
   ]
  },
  {
   "cell_type": "code",
   "execution_count": null,
   "metadata": {},
   "outputs": [],
   "source": []
  }
 ],
 "metadata": {
  "kernelspec": {
   "display_name": "base",
   "language": "python",
   "name": "python3"
  },
  "language_info": {
   "codemirror_mode": {
    "name": "ipython",
    "version": 3
   },
   "file_extension": ".py",
   "mimetype": "text/x-python",
   "name": "python",
   "nbconvert_exporter": "python",
   "pygments_lexer": "ipython3",
   "version": "3.9.13"
  }
 },
 "nbformat": 4,
 "nbformat_minor": 2
}

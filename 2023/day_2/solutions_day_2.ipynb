{
 "cells": [
  {
   "cell_type": "code",
   "execution_count": 1,
   "metadata": {},
   "outputs": [],
   "source": [
    "def flist(nm):\n",
    "    with open(f'{nm}.txt') as f:\n",
    "        return [line.strip() for line in f.readlines()]"
   ]
  },
  {
   "cell_type": "code",
   "execution_count": 2,
   "metadata": {},
   "outputs": [],
   "source": [
    "e1 = flist('example1')"
   ]
  },
  {
   "cell_type": "code",
   "execution_count": 3,
   "metadata": {},
   "outputs": [
    {
     "data": {
      "text/plain": [
       "['Game 1: 3 blue, 4 red; 1 red, 2 green, 6 blue; 2 green',\n",
       " 'Game 2: 1 blue, 2 green; 3 green, 4 blue, 1 red; 1 green, 1 blue',\n",
       " 'Game 3: 8 green, 6 blue, 20 red; 5 blue, 4 red, 13 green; 5 green, 1 red',\n",
       " 'Game 4: 1 green, 3 red, 6 blue; 3 green, 6 red; 3 green, 15 blue, 14 red',\n",
       " 'Game 5: 6 red, 1 blue, 3 green; 2 blue, 1 red, 2 green']"
      ]
     },
     "execution_count": 3,
     "metadata": {},
     "output_type": "execute_result"
    }
   ],
   "source": [
    "e1"
   ]
  },
  {
   "cell_type": "code",
   "execution_count": 7,
   "metadata": {},
   "outputs": [],
   "source": [
    "condition = {\n",
    "    'red': 12,\n",
    "    'green': 13,\n",
    "    'blue': 14,\n",
    "}"
   ]
  },
  {
   "cell_type": "code",
   "execution_count": 13,
   "metadata": {},
   "outputs": [
    {
     "name": "stdout",
     "output_type": "stream",
     "text": [
      "fail!\n"
     ]
    },
    {
     "data": {
      "text/plain": [
       "['3 blue, 4 red', ' 1 red, 2 green, 6 blue', ' 20 green']"
      ]
     },
     "execution_count": 13,
     "metadata": {},
     "output_type": "execute_result"
    }
   ],
   "source": [
    "s = '3 blue, 4 red; 1 red, 2 green, 6 blue; 20 green'\n",
    "fetches = s.split(';')\n",
    "for fetch in fetches:\n",
    "    balls = fetch.split(',')\n",
    "    for ball in balls:\n",
    "        for clr, cnt in condition.items():\n",
    "            if clr in ball:\n",
    "                if int(ball.replace(clr, '').strip()) > cnt:\n",
    "                    print('fail!')\n",
    "# res = {}\n",
    "# for part in s.split(','):\n",
    "fetches"
   ]
  },
  {
   "cell_type": "code",
   "execution_count": 20,
   "metadata": {},
   "outputs": [
    {
     "data": {
      "text/plain": [
       "True"
      ]
     },
     "execution_count": 20,
     "metadata": {},
     "output_type": "execute_result"
    }
   ],
   "source": [
    "def possible_fetches(s):\n",
    "    fetches = s.split(';')\n",
    "    for fetch in fetches:\n",
    "        balls = fetch.split(',')\n",
    "        for ball in balls:\n",
    "            for clr, cnt in condition.items():\n",
    "                if clr in ball:\n",
    "                    if int(ball.replace(clr, '').strip()) > cnt:\n",
    "                        return False\n",
    "    return True\n",
    "\n",
    "possible_fetches(e1[4].split(':')[1])"
   ]
  },
  {
   "cell_type": "code",
   "execution_count": 40,
   "metadata": {},
   "outputs": [],
   "source": [
    "game_dict = lambda s: [int(s.split(':')[0].split(' ')[1].strip()), s.split(':')[1].strip()]\n",
    "\n",
    "resd = {game_dict(ln)[0]:possible_fetches(game_dict(ln)[1]) for ln in flist('example1') if possible_fetches(game_dict(ln)[1])}\n",
    "assert list(resd.keys()) == [1,2,5]\n",
    "assert sum(list(resd.keys())) == 8"
   ]
  },
  {
   "cell_type": "code",
   "execution_count": 41,
   "metadata": {},
   "outputs": [
    {
     "data": {
      "text/plain": [
       "2101"
      ]
     },
     "execution_count": 41,
     "metadata": {},
     "output_type": "execute_result"
    }
   ],
   "source": [
    "resd = {game_dict(ln)[0]:possible_fetches(game_dict(ln)[1]) for ln in flist('input') if possible_fetches(game_dict(ln)[1])}\n",
    "sum(list(resd.keys()))"
   ]
  },
  {
   "cell_type": "code",
   "execution_count": 54,
   "metadata": {},
   "outputs": [
    {
     "name": "stdout",
     "output_type": "stream",
     "text": [
      "{'blue': 3, 'red': 4}\n",
      "{'red': 1, 'green': 2, 'blue': 6}\n",
      "{'green': 20}\n"
     ]
    }
   ],
   "source": [
    "s = '3 blue, 4 red; 1 red, 2 green, 6 blue; 20 green'\n",
    "fetches = s.split(';')\n",
    "mc = {}\n",
    "for fetch in fetches:\n",
    "    balls = fetch.split(',')\n",
    "    a = {ball.strip().split()[1]:int(ball.strip().split()[0]) for ball in fetch.split(',')}\n",
    "    mc = {color: max(mc.get(color, -1), a.get(color, -1)) for color in set(mc.keys()).union(set(a.keys()))}\n",
    "    print(a)\n",
    "\n",
    "    # for ball in balls:\n",
    "    #     bs = \n",
    "    #     print(ball.strip().split())"
   ]
  },
  {
   "cell_type": "code",
   "execution_count": 57,
   "metadata": {},
   "outputs": [
    {
     "data": {
      "text/plain": [
       "36"
      ]
     },
     "execution_count": 57,
     "metadata": {},
     "output_type": "execute_result"
    }
   ],
   "source": [
    "def set_power(s):\n",
    "    fetches = s.split(';')\n",
    "    mc = {}\n",
    "    for fetch in fetches:\n",
    "        balls = fetch.split(',')\n",
    "        a = {ball.strip().split()[1]:int(ball.strip().split()[0]) for ball in fetch.split(',')}\n",
    "        mc = {color: max(mc.get(color, -1), a.get(color, -1)) for color in set(mc.keys()).union(set(a.keys()))}\n",
    "    \n",
    "    res = 1\n",
    "    for v in mc.values():\n",
    "        res = res*v\n",
    "    return res\n",
    "\n",
    "set_power(e1[4].split(':')[1])"
   ]
  },
  {
   "cell_type": "code",
   "execution_count": 58,
   "metadata": {},
   "outputs": [],
   "source": [
    "part2 = lambda fn: [set_power(line.split(':')[1]) for line in flist(fn)]\n",
    "\n",
    "assert part2('example1') == [48, 12, 1560, 630, 36]\n",
    "assert sum(part2('example1')) == 2286"
   ]
  },
  {
   "cell_type": "code",
   "execution_count": 59,
   "metadata": {},
   "outputs": [
    {
     "data": {
      "text/plain": [
       "58269"
      ]
     },
     "execution_count": 59,
     "metadata": {},
     "output_type": "execute_result"
    }
   ],
   "source": [
    "sum(part2('input'))"
   ]
  },
  {
   "cell_type": "code",
   "execution_count": null,
   "metadata": {},
   "outputs": [],
   "source": []
  }
 ],
 "metadata": {
  "kernelspec": {
   "display_name": "base",
   "language": "python",
   "name": "python3"
  },
  "language_info": {
   "codemirror_mode": {
    "name": "ipython",
    "version": 3
   },
   "file_extension": ".py",
   "mimetype": "text/x-python",
   "name": "python",
   "nbconvert_exporter": "python",
   "pygments_lexer": "ipython3",
   "version": "3.9.13"
  }
 },
 "nbformat": 4,
 "nbformat_minor": 2
}
